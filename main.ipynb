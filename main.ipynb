{
 "cells": [
  {
   "cell_type": "markdown",
   "metadata": {},
   "source": [
    "# Import Libs"
   ]
  },
  {
   "cell_type": "code",
   "execution_count": 157,
   "metadata": {},
   "outputs": [],
   "source": [
    "import re\n",
    "import os"
   ]
  },
  {
   "cell_type": "markdown",
   "metadata": {},
   "source": [
    "# Extraindo Personagens"
   ]
  },
  {
   "cell_type": "markdown",
   "metadata": {},
   "source": [
    "## Descobrindo nomes arquivos de entrada"
   ]
  },
  {
   "cell_type": "code",
   "execution_count": 158,
   "metadata": {},
   "outputs": [],
   "source": [
    "def list_path_temporadas() -> list:\n",
    "    dir_dados = 'data'\n",
    "    diretorios = os.listdir(dir_dados)\n",
    "    diretorios_temporadas = [f'{dir_dados}/{f}' for f in diretorios if os.path.isdir(f'{dir_dados}/{f}')]\n",
    "    return diretorios_temporadas"
   ]
  },
  {
   "cell_type": "code",
   "execution_count": 159,
   "metadata": {},
   "outputs": [],
   "source": [
    "def list_path_epi(path_temporada) -> list:\n",
    "    diretorios = os.listdir(path_temporada)\n",
    "    path_episodios = [f'{path_temporada}/{f}' for f in diretorios if os.path.isfile(f'{path_temporada}/{f}')]\n",
    "    return path_episodios"
   ]
  },
  {
   "cell_type": "markdown",
   "metadata": {},
   "source": [
    "# Extrair Personagens"
   ]
  },
  {
   "cell_type": "code",
   "execution_count": 160,
   "metadata": {},
   "outputs": [],
   "source": [
    "def regex_nome_personagem(string):\n",
    "    return re.search('^[^\"\\[]*?:', string.upper())"
   ]
  },
  {
   "cell_type": "code",
   "execution_count": 161,
   "metadata": {},
   "outputs": [],
   "source": [
    "def tratamento_nome_personagem(personagem_str):\n",
    "    p = re.compile('((\\(.*\\))*)(\\s?):')\n",
    "    personagem_str = p.sub('', personagem_str) \n",
    "    p = re.compile('\\s$')\n",
    "    personagem_str = p.sub('', personagem_str)\n",
    "    \n",
    "    if 'YOUNG ' in personagem_str:\n",
    "        return personagem_str.replace('YOUNG ', '')\n",
    "    elif ' VOICE' in personagem_str:\n",
    "        return personagem_str.replace('\\'S VOICE', '')    \n",
    "    \n",
    "    return personagem_str"
   ]
  },
  {
   "cell_type": "code",
   "execution_count": 162,
   "metadata": {},
   "outputs": [],
   "source": [
    "def contem_digito(personagem_str):\n",
    "    return any(char.isdigit() for char in personagem_str)"
   ]
  },
  {
   "cell_type": "code",
   "execution_count": 163,
   "metadata": {},
   "outputs": [],
   "source": [
    "def extrair_personagens_episodio(path_arquivo, personagens, personagens_figurantes):\n",
    "    with open(path_arquivo, 'r') as file:\n",
    "        for line in file:\n",
    "            personagem = regex_nome_personagem(line)\n",
    "\n",
    "            if personagem:\n",
    "                personagem_str = tratamento_nome_personagem(personagem.group(0))\n",
    "                \n",
    "                contains_digit = any(char.isdigit() for char in personagem_str)\n",
    "                \n",
    "                if contains_digit:\n",
    "                    p = re.compile('(\\s?).(\\d)')\n",
    "                    personagem_figurante = p.sub('', personagem_str)\n",
    "                    personagens_figurantes.add(personagem_figurante)\n",
    "                else:\n",
    "                    x = re.search('((^ALL\\s)|(^ALL$)|(^AN?\\s))', personagem_str)\n",
    "                    if not x:\n",
    "                        personagens.add(personagem_str)"
   ]
  },
  {
   "cell_type": "code",
   "execution_count": 164,
   "metadata": {},
   "outputs": [],
   "source": [
    "def personagem_invalido(personagem_str):\n",
    "    return ',' in personagem_str or '.' in personagem_str or 'CUT TO' in personagem_str or 'VOICE ' in personagem_str"
   ]
  },
  {
   "cell_type": "code",
   "execution_count": 165,
   "metadata": {},
   "outputs": [],
   "source": [
    "# def tratamento_nome_personagem(personagem_str):\n",
    "#     if 'YOUNG ' in personagem_str:\n",
    "#         return personagem_str.replace('YOUNG ', '')\n",
    "#     elif ' VOICE' in personagem_str:\n",
    "#         return personagem_str.replace(' VOICE', '')\n",
    "#     return personagem_str"
   ]
  },
  {
   "cell_type": "code",
   "execution_count": 166,
   "metadata": {},
   "outputs": [],
   "source": [
    "def extrair_personagens():\n",
    "    personagens = set()\n",
    "    \n",
    "    personagens_figurantes = set()\n",
    "    \n",
    "    for path_temporada in list_path_temporadas():\n",
    "        for path_episodio in list_path_epi(path_temporada):\n",
    "            extrair_personagens_episodio(path_episodio, personagens, personagens_figurantes)\n",
    "            \n",
    "    personagens_principais = set()\n",
    "    for personagem in personagens:\n",
    "        if personagem_invalido(personagem):\n",
    "            continue\n",
    "        \n",
    "        # if 'YOUNG ' in personagem:\n",
    "        #     personagens_principais.add(personagem.replace('YOUNG ', ''))\n",
    "        #     continue\n",
    "        # elif ' VOICE' in personagem:\n",
    "        #     personagens_principais.add(personagem.replace(' VOICE', ''))\n",
    "        #     continue       \n",
    "        \n",
    "        # personagem = tratamento_nome_personagem(personagem)\n",
    "             \n",
    "        if personagem not in personagens_figurantes:\n",
    "            personagens_principais.add(personagem)    \n",
    "             \n",
    "    return personagens_principais"
   ]
  },
  {
   "cell_type": "code",
   "execution_count": 167,
   "metadata": {},
   "outputs": [],
   "source": [
    "personagens = extrair_personagens()"
   ]
  },
  {
   "cell_type": "markdown",
   "metadata": {},
   "source": [
    "# Divisão Cenas"
   ]
  },
  {
   "cell_type": "code",
   "execution_count": 168,
   "metadata": {},
   "outputs": [],
   "source": [
    "def linha_atual_dialogo(personagem_regex):\n",
    "    return False if not personagem_regex else True\n",
    "    "
   ]
  },
  {
   "cell_type": "code",
   "execution_count": 169,
   "metadata": {},
   "outputs": [],
   "source": [
    "def personagens_na_mesma_cena(dialogos, personagens):\n",
    "    personagens_cena = set()\n",
    "    \n",
    "    for dialogo in dialogos:\n",
    "        nome_personagem = regex_nome_personagem(dialogo).group(0)\n",
    "        nome_personagem = tratamento_nome_personagem(nome_personagem)\n",
    "        \n",
    "        if personagem_invalido(nome_personagem):\n",
    "            continue\n",
    "        \n",
    "        if nome_personagem in personagens:    \n",
    "            personagens_cena.add(nome_personagem)\n",
    "        \n",
    "    return personagens_cena"
   ]
  },
  {
   "cell_type": "code",
   "execution_count": 170,
   "metadata": {},
   "outputs": [],
   "source": [
    "def nova_cena(ultima_linha_dialogo, linha_atual_contem_dialogo, dialogo_iniciado_capitulo, line):\n",
    "    if 'scene' in line:\n",
    "        return True\n",
    "    if '- - -' in line:\n",
    "        return True\n",
    "    if 'EXT.' in line: \n",
    "        return True\n",
    "    if 'CUT TO' in line:\n",
    "        return True\n",
    "    if not ultima_linha_dialogo and dialogo_iniciado_capitulo:\n",
    "        if linha_atual_contem_dialogo:\n",
    "            return True\n",
    "    return False\n",
    "            "
   ]
  },
  {
   "cell_type": "code",
   "execution_count": 171,
   "metadata": {},
   "outputs": [],
   "source": [
    "def identificacao_cenas(personagens):\n",
    "    personagens_cenas_serie = []\n",
    "    for path_temporada in list_path_temporadas():\n",
    "        for path_episodio in list_path_epi(path_temporada):\n",
    "            \n",
    "            with open(path_episodio, 'r') as file:\n",
    "                dialogos = []\n",
    "                ultima_linha_dialogo = False\n",
    "                gerar_quebra_cenario = False\n",
    "                dialogo_iniciado_capitulo = False\n",
    "                for line in file:\n",
    "                    \n",
    "                    if line == '\\n':\n",
    "                        continue\n",
    "                    \n",
    "                    personagem_regex = regex_nome_personagem(line)\n",
    "\n",
    "                    linha_atual_contem_dialogo = linha_atual_dialogo(personagem_regex)                   \n",
    "\n",
    "                    \n",
    "                    if personagem_regex:\n",
    "                        dialogo_iniciado_capitulo = True\n",
    "                        dialogos.append(line)\n",
    "                    elif nova_cena(ultima_linha_dialogo, linha_atual_contem_dialogo, dialogo_iniciado_capitulo, line):\n",
    "                        personagens_cena = personagens_na_mesma_cena(dialogos, personagens)\n",
    "                        if len(personagens_cena) > 1:\n",
    "                            personagens_cenas_serie.append(personagens_cena)\n",
    "                        dialogos = []\n",
    "                    \n",
    "                    ultima_linha_dialogo = linha_atual_contem_dialogo         \n",
    "                        \n",
    "    return personagens_cenas_serie                    "
   ]
  },
  {
   "cell_type": "code",
   "execution_count": 172,
   "metadata": {},
   "outputs": [],
   "source": [
    "identificacao_cenas(personagens)"
   ]
  },
  {
   "cell_type": "code",
   "execution_count": 173,
   "metadata": {},
   "outputs": [
    {
     "name": "stdout",
     "output_type": "stream",
     "text": [
      "{'ROOSE', 'WILLEM', 'LORD OF BONES', 'ROSLIN', 'WOMEN', 'KING’S LANDING GUARD', 'MILITANT', 'BRAN STARK', 'SANSA', 'FREY GUARD', 'SEPTA UNELLA', 'ROBERT', 'BRAN', 'COLEN', 'BLONDE PROSTITUTE', 'MERYN TRANT', 'MYRCELLA', 'EDDARD STARK', 'DRIVER', 'YARA', 'BOY', 'LORD VARYS', 'CAPTAIN', 'SEVERAL STARK BANNERMEN', 'DERRYK', 'EURION', 'DAARIO NAHARIS', \"OLLY'S MOTHER\", 'OLENNA', 'HEAD PROSTITUTE', 'NIGHT’S WATCH BROTHER', 'CRAYAH', 'CERSEI BARATHEON', 'ARTHUR', 'NED & ALYS', 'KHAL DROGO', 'DAENERYS STORMBORN', 'JONOS BRACKEN', 'ELARIA', 'CAMELLO', 'QHORIN', 'MELESSA', 'DOLOROUD EDD', 'MALKO', 'RENNICK', 'MERYN', 'SLAVES', 'SEPTA', 'WAIF', 'SER DONTOS', 'DEANERYS TARGARIAN', 'RANGER', 'FREY MAN', 'TYRON', 'WILL', 'TANNER', 'BRONN', 'HARRAG', 'STANNIS', 'LEM', 'THE HOUND', 'YOREN', 'RAMSAY', 'LOLLYS STOKEWORTH', 'LYANNA MORMONT', 'LADY CRANE', 'TYWIN LANNISTER', 'MARTYN', 'GUARD CAPTAIN', 'LOMMY GREENHANDS', 'SEPTON', 'JANOS', 'LADY ANYA', 'RAKHARO', 'DANAERYS', 'OBARA', 'PYCELLE', 'SER JORAH', 'MOSSADOR', 'POLLIVER', 'GALBART GLOVER', 'JEOR', 'WAYMAR ROYCE', 'BRAND', 'MOSADOR', 'WHITE RAT', 'GARED', 'TEELA', 'PYAT PREE', 'MARTHA', 'GREIZHEN', 'SMALLJON', 'STORYTELLER', 'PYATTPREE', 'DOREAH', 'VALE LORD', 'HIZDAHR ZO LORAQ', 'HOODED FIGURE', 'SANDOR', 'JOHN', 'THREE-EYED RAVEN', 'RIVERLANDS LORD', 'MANSERVANT', 'TRIBESMEN OF THE VALE', 'CLIENT', 'JAIME', 'SAAN', 'YOHN ROYCE', 'KARL', 'MELISANDRE', 'GREYWORM', 'PETYR', 'RED PRIEST', 'LYSA', 'EDDISON', 'ALLISER THORN', 'UMBER', 'DAGMER', 'MYRCELLA BARATHEON', 'RODRICK CASSEL', 'AERON', 'LADY WALDA', 'LEADER', 'LOMMY', 'SYRIO FOREL', 'KINVARA', 'ROBB', 'DAENERYS', 'SAME', 'MAGGY', 'CERSEL', 'SLAVE OWNER', 'OWNER', \"MORGAN'S FRIEND\", 'SHIREEN', 'BRON', 'MYCAH', 'WALDER', 'HUNTERS', 'ROYCE', 'KING’S SOLDIER', 'DOTHRAKI MATRON', 'DORNISH PRINCE', 'IRRI', 'BLACK HAIRED PROSTITUTE', 'VIOLET', 'EVERYONE', 'DORNISH LORD', 'ROBETT', 'HARPY', 'MIRRI MAZ DUUR', 'MANCE', 'PROSTITUTE', 'MERRY', 'RAST', 'THEON GREYJOY', 'WINTERFELL SHEPHERD', 'JON', 'NED STARK', 'ANNOUNCER', 'JOFFFREY', 'HANDMAIDEN', 'KARL TANNER', 'RALF', 'RYGER RIVERS', 'DAUGHTER', 'RANDYLL', 'TYENE', 'MELISDANDRE', 'PRIESTESS', 'SAND SNAKES', 'RICKARD', 'RODRIK CASSAL', 'BOTH', 'THE OTHERS AT THE TABLE', 'BARRISTON', 'AREO', 'WALDA', 'MERO', 'AXELL FLORENT', 'MARWYN', 'ALLISER THORNE', 'CHILD OF THE FOREST', 'OFFICER', 'SANSA STARK', 'WOUNDED SOLDIER', 'MARILLION', 'BRINENNE', 'TELL ME SOMETHING', 'MHAEGAN', 'ALLISER THRONE', 'GENDRY', 'SAM', 'GOATHERD', 'NAN', 'CERSIE', 'RORGE', 'MUSICIAN', 'BITER', 'PRIEST', 'RENLY BARATHEON', 'RICKON STARK', 'DICKON', 'MEERA', 'BRIENNE', 'GLOVER', 'SQUIRE', 'LORD ROYCE', 'KING’S LANDING BAKER', 'ARCHERS', 'SAMWELL', 'DAV OS', 'SER BARRISTAN', 'LOBODA', 'ARAY', 'HOT PIE', 'BOWEN MARSH', 'BARRISTAN', 'TALLA', 'SHAGGA', 'ROBIN', 'IRONBORN', 'PODRICK', 'SER RODRIK', 'DOLOROUS EDD', 'CRASTER', 'BIANCA', 'GREY WORM', 'YARWICK', 'YOHN', 'HARRY', 'VISERYS', 'BLACK WALDER', 'PYELLE', 'CHILD', 'DYING MAN', 'FATHER', 'ARYA STARK', 'LOTHAR', 'WATCHMAN', 'DAEYNERYS', 'BUYER', 'MERCHANT', 'FENNESZ', 'JOFFREY DWARF', 'QOTHO', 'THENN WARG', 'JON/ROBB', 'CRESSEN', 'BLACKSMITH', 'JAIME LANNISTER', 'HIGH SEPTON', 'GIANT', 'YEZZAN', 'KINGS GUARD', 'EDDISION', 'BYSTANDERS', 'SAMWEL TARLY', 'VALE KNIGHT', 'JACKS', 'LEAF', 'DANY', 'ELLIA', 'RHAKARO', 'RHAKHARO', 'ROS', \"MOLE'S TOWN WHORE\", 'LORD BOLTON', \"INNKEEPER'S DAUGHER\", 'STARK GUARD', 'QUENT', 'SER ALLISER', 'EDD', 'JANOS SLUNT', 'QUAITHE', 'NIGHTS WATCH BROTHER', 'SEPTA MORDANE', 'BOLTON GUARD', 'MHAEGEN', 'PYATT PREE', 'BUER', 'DAARIO', 'IRONBORN LORD', 'MORGAN', 'WALDERY FREY', 'BENJEN', 'TAILOR', 'LADY OLENNA', 'UNSULLIED CAPTAIN', 'LANCEL', 'ILLYRIO', 'GREATJON UMBER', 'CATELYN STARK', 'ALLISER', 'RAMSEY', 'SER VANCE', 'TOMARD', 'INNKEEPER', 'MEEREEN SLAVE', 'DAVOS', 'NED', 'MAESTER WOLKAN', 'STEVRON FREY', 'BRAAVOSI MAN', 'ERSEI', 'CASSEL', 'BOBONO', 'LOLLYS', 'MAREI', 'POPULACE', 'JEOR MORMONT', 'TOBHO MOTT', 'MAESTER AEMON', 'PIG FARMER', 'AERSON', 'TORTURER', 'MYRANDA', 'JORAH', 'ED', 'SARRA', 'BRANN STARK', 'HAYLENE', 'MARGAERY & TOMMEN', 'CLARENZO', 'GUYMON', 'MAESTER PYCELLE', 'SURVIVOR', 'EDMURE & ROSLIN', 'FARMER HAMLET', 'ELDER MEEREEN SLAVE', 'WARG', 'ARMORY', 'ALTON', 'EURON', 'UNIDENTIFIED NIGHT’S WATCHERS', 'LYSA ARRYN', 'ALLISTER', 'JANOS SLYNT', 'THEON', 'BALON', 'ARYA', 'RICKON', 'SHOUTING', 'MAESTER LUWIN', 'OWEN', 'MEN', 'BERIC DONDARRION', 'WAITRESS', 'CHAMPION', 'RHAEGAR', 'VARDIS EGEN', 'TYRIOM', 'SHAE', 'SALLADHOR', 'TYWIN', 'RED PRIESTESS', 'OTHELL YARWYCK', 'JOJEN', 'REGINALD', 'LISTENERS', 'CATELYN', 'BOLTON BANNERMAN', 'KNIGHT OF HOUSE WHENT', 'PYCELL', 'FIRST MATE', 'SISSY', 'VALA', 'WINE MERCHANT', 'MACE TYRELL', 'ROZ', 'RIKON', 'MAGO', 'TOGETHER', 'TANSY', 'MALE SINGER', 'RIDER', 'LHARA', 'LITTLE BIRD', 'OLD NAN', 'MANDERLY', 'JHIQUI', 'INT', 'AMORY', 'TYWEN', 'MACE', 'TORMUND', 'MOUNTIAN', 'STARK BANNERMEN', 'KING JOFFREY', 'JORY CASSEL', 'THIN MAN', 'STYR', 'PETYR BAELISH', 'THOROS', 'STEWARD', 'TIMETT', 'WILDLING ELDER', 'BERIC', 'OTHELL YARWICK', 'DAENERYS TARGARYEN', 'RENLY', 'SER VARDIS', 'BLACKFISH', 'TOMMEN', 'TRION', 'MELARA', 'SELYSE', 'BROTHEL KEEPER', 'ROBETT GLOVER', 'SAMMY', 'MORAG', 'JOFFREY', 'JORA', 'VARLY', 'LORD', 'BAELISH', 'OLEANNA', 'DORAN', 'WALDER FREY', 'TYCHO', 'RODRIK', 'ROOSE BOLTON', 'QUORIN', 'JON WALKS UP TO SAMWELL', 'RICKARD KARSTARK', 'BANKER', 'GATINS', 'COOPER', 'NORA', 'LOCKE', 'CESEI', 'OLD MAN', 'ILLYRIO MOPATIS', 'LITTLEFINGER', 'RATTLESHIRT', 'KHAL MORO', 'QYBURN', 'TYRION', 'MORD', 'STEWARD OF HOUSE STARK', 'YARWYCK', 'KINGSGUARD', 'SPARROW', 'GRAND MAESTER PYCELLE', 'COHOLLO', 'SILK KING', 'LHAZAREEN WOMAN', 'BALON DWARF', 'HOUND', 'SHADOW TOWER BROTHER', 'SANDOR CLEGANE', 'KRAZNYS MO NAKLOZ', 'PORTAN', 'QYBURNS', 'THE GROUP', 'MASTER OF ARMS', 'OLYVAR', 'DARRIO', 'DONNEL', 'GERARD', 'DENERYS', 'TORMUD', 'LYANNA', 'QUICK', 'EVERYBODY', 'DOTHRAKI WOMAN', 'LITTLE SAM', 'DIRAH', 'MAESTER PYCELL', 'ELLARIA', 'ROBB STARK', 'GRENN', 'AHSA', 'MAID', 'EXT', 'VISERYS TARGARYEN', 'RADZAL MO ERAZ', 'VARYS', 'THE MOUNTAIN', 'VOICE', 'EDMURE', 'ROBERT BARATHEON', 'ROBIN ARRYN', 'HEAD', 'TWYIN', 'RENLY DWARF', 'KRAZNYS', 'DARIO', 'HIZDAHR', 'JAREMY RYKKER', 'NYMERIA', 'SAMWELL TARLY', 'KOVARRO', 'BABY', 'REMEMBER THIS', 'DOLROUS EDD', 'GILLY', 'THE TICKLER', 'BELICHO', 'PYPAR', 'BLACK LORREN', 'KEVAN LANNISTER', 'GIRL', 'LANCEL LANNISTER', 'GRAND MAESTER PYRCELLE', 'CATELYIN', 'STREET URCHIN', 'LADYC RANE', 'OBERYN', 'MATTHOS', 'CERSEI', 'GREY WORM & MISSANDEI', 'PROTESTER', 'JON SNOW', 'IZEMBARO', 'BENJEN STARK', 'MARYN TRANT', 'MARGAERY', 'LANNISTER SOLDIER', 'LORAS TYRELL', 'MESSENGER', 'MOUNTAIN', 'LORD MORMONT', 'WOLKAN', 'MANDON', 'FARLEN', 'LORAS', 'SERVANT', 'RAZDAL', 'BOLTON OFFICER', \"MOLE'S TOWN MADAM\", 'STABLE BOY', 'RAY', 'YTRION', 'DAERNEYS', 'LANNISTER SCOUT', 'JORAH MORMONT', 'TRYSTANE', 'FREY MEN', 'LUWIN', 'KNIGHT OF HOUSE BRACKEN', 'ROBB DWARF', 'DAAERIO', 'JAMIE LANNISTER', 'MISTRESS', 'HIGH SPARROW', 'KARSTARK', 'CERSEI LANNISTER', 'BARRISTAN SELMY', 'XARO', 'RODRIK CASSEL', 'PYP', 'BROTHERS', 'DAISY', 'NIGHT WATCH STABLE BOY', 'DAENARYS STORMBORN', 'DROGO', 'YGRITTE', 'TYRION LANNISTER', 'TANSAY', 'JOFFREY BARATHEON', \"FELLOW NIGHT'S WATCH BROTHERS\", 'EDDARK STARK', 'SLAVE BUYER', 'BROTHER', 'ANGUY', 'ORELL', 'BRYNDEN', \"KING'S LANDING PAGE\", 'BOTH JON AND SAM', 'QUAITH', 'SPICE KING', 'SLAVER', 'WILLA', 'TALISA', 'ADDAM MARBRAND', 'ATTENDANT', 'SALLADOR', 'KARSI', 'VOICES OUTSIDE', 'KEVAN', 'STRONG', 'CROWD', \"NIGHT'S WATCH\", 'VICKY', 'HODOR', 'MASHA HEDDLE', 'LORD KARSTARK', 'DROWNED PRIEST', 'WUN WUN', 'LEO LEFFORD', 'OSHA', 'JAQEN', 'HUGH OF THE VALE', 'MISSANDEI', 'AEMON', 'OLLY', 'MORDANE', 'DANERYS', 'STANNIS DWARF', 'ASSASSIN', 'MASTER', 'AYRA', 'DIM DALBA', 'PRENDAHL'}\n"
     ]
    }
   ],
   "source": []
  }
 ],
 "metadata": {
  "kernelspec": {
   "display_name": "Python 3",
   "language": "python",
   "name": "python3"
  },
  "language_info": {
   "codemirror_mode": {
    "name": "ipython",
    "version": 3
   },
   "file_extension": ".py",
   "mimetype": "text/x-python",
   "name": "python",
   "nbconvert_exporter": "python",
   "pygments_lexer": "ipython3",
   "version": "3.10.12"
  }
 },
 "nbformat": 4,
 "nbformat_minor": 2
}
